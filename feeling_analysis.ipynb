{
 "cells": [
  {
   "cell_type": "markdown",
   "source": "# Feeling analysis project\nThis is a program that tells us how positive, neutral or negative are a set of responses in twitter.\n**The following messagues: **\n\n* Gran mexicano y excelente en su área, su muerte es una enorme perdida y debería ser luto nacional!!!\n\n* Vaya señora que bueno que se asesora por alguien inteligente no por el ignorante del Gatt.\n\n* Se me ocurre y sin ver todos los videos de Plazti que me informéis por dónde empiezo. Entiendo que os tendría que decir quién soy y que quiero, vamos conocerme para asesorarme bien. Un saludo\n\n\n* Soy docente universitario, estoy intentando preparar mis clases en modo platzi bien didáctico, (le llamo modo noticiero), descargue una plataforma gratuita de grabación y transmisión de vídeo, se llama Obs estudio!bueno la sigo remando con sus funciones pero sé que saldrá algo!\n\n",
   "metadata": {
    "tags": [],
    "cell_id": "00000-96c3e83f-b907-42bc-b025-9f86445a8f46",
    "deepnote_cell_type": "markdown"
   }
  },
  {
   "cell_type": "code",
   "source": "#tweet\nuno = 'Gran mexicano y excelente en su área, su muerte es una enorme perdida y debería ser luto nacional!!!'\n\ndos = 'Vaya señora que bueno que se asesora por alguien inteligente no por el ignorante del Gatt.'\n\ntres = 'Se me ocurre y sin ver todos los videos de Plazti que me informéis por dónde empiezo. Entiendo que os tendría que decir quién soy y que quiero, vamos conocerme para asesorarme bien. Un saludo'\n\ncuatro = 'Soy docente universitario, estoy intentando preparar mis clases en modo platzi bien didáctico, (le llamo modo noticiero), descargue una plataforma gratuita de grabación y transmisión de vídeo, se llama Obs estudio!bueno la sigo remando con sus funciones pero sé que saldrá algo!'",
   "metadata": {
    "tags": [],
    "cell_id": "00001-aaba52cd-e8a9-4f05-b936-5476e21162f2",
    "deepnote_to_be_reexecuted": false,
    "source_hash": "3d9f7d17",
    "execution_start": 1628400874910,
    "execution_millis": 38,
    "deepnote_cell_type": "code"
   },
   "outputs": [],
   "execution_count": 1
  },
  {
   "cell_type": "markdown",
   "source": "Then we can not take all the information from the tweets, instead we are going to look for specific strings. Hence, we are going to construct a function in python that count the times that a certain string appears. For instance, let's suppose that the words are: 'muerte', 'perdida', 'luto', 'excelente', 'gran' and 'positivo'. Then we can exprese this in as a vector, respectively. So, the first comment can be express as:\n\n$$\n\\vec{w} = \\begin{bmatrix}1\\\\ 1 \\\\ 1\\\\ 1\\\\ 1 \\\\0 \\end{bmatrix}\n$$  \n\nNow let's create another fuunction in which we are going to have a vector with quantity inputs of words positive, neutral and negative. \nFor the example before then we can add one to the first input if appears some of the following words 'excelente', 'gran', and 'positivo' (positive words).\nMoreover, we add one in the second input if appears 'perdida' (neutral word)\nFinally, we add one if it appears the words 'muerte' or 'luto' (negative words). Then, the first tweet can be express as follows:\n\n$$\n\\vec{s} = \\begin{bmatrix} 2 \\\\ 1 \\\\2 \\end{bmatrix}\n$$ \n\nFurther, to check the error for  the results for a tweet let's calculate the average of the inputs of a words vector $$(\\vec{w})$$. As:\n\n$$avg(\\vec{w}) = (\\mathbf{1}/n)^{T}\\vec{w}$$\n\nonce we have the average of the feeling in each tweet $avg(\\vec{s})$ . Then, the sentimental score which is defined as: \n\n$$score(\\vec{s}) = [1\\; 0\\; -1] \\begin{bmatrix} s_{0} \\\\ s_{1} \\\\s_{2} \\end{bmatrix}$$\n",
   "metadata": {
    "tags": [],
    "cell_id": "00002-cf48c17e-88e4-46a8-989b-11edb8bff237",
    "deepnote_cell_type": "markdown"
   }
  },
  {
   "cell_type": "code",
   "source": "import numpy as np",
   "metadata": {
    "tags": [],
    "cell_id": "00006-97087e14-8f28-420b-9b8d-c849dc5cefb5",
    "deepnote_to_be_reexecuted": false,
    "source_hash": "c2602aa8",
    "execution_start": 1628400875026,
    "execution_millis": 44,
    "deepnote_cell_type": "code"
   },
   "outputs": [],
   "execution_count": 4
  },
  {
   "cell_type": "code",
   "source": "def tweet_clean(tweet):\n    dictc = (('á','a'),('é','e'),('í','i'),('ó','o'))\n    tweet = tweet.replace(',','').replace('!',' ').lower().replace('.','').replace('(','').replace(')','').replace('á','a').replace('é','e').replace('í','i').replace('ó','o').split()\n    return tweet\n\ndef tweet_analysis(tweet):\n    word = ['bien','gran','excelente','inteligente','didactico','bueno','informeis','sin','intentando','vamos','enorme'\n            ,'muerte','perdida','luto','ignorante','no']\n    positive = ['bien','gran','excelente','inteligente','didactico','bueno','platzi','ocurre']\n    neutral = ['informeis','sin','intentando','vamos','enorme']\n    negative = ['muerte','perdida','luto','ignorante','no']\n    \n    w = []  #vector w en order de word ojo\n\n    for i in range(len(word)):\n        for j in range(len(tweet)):\n            if word[i] == tweet[j]:\n                vector = np.zeros(len(word))\n                vector[i] = 1\n                w.append(vector)\n    \n    w = sum(w)\n\n    position = [i for i in range(len(word)) if int(w[i]) == 1]\n\n\n    s = [0,0,0]\n\n    for i in range(len(positive)):\n        for j in position:\n            if positive[i] == word[j]:\n                s[0] += 1\n    \n    for i in range(len(neutral)):\n        for j in position:\n            if neutral[i] == word[j]:\n                s[1] += 1\n    \n    for i in range(len(negative)):\n        for j in position:      \n            if negative[i] == word[j]:\n                s[2] += 1 \n\n    return w,s\n\ndef error(w,s):\n    uno = np.ones(len(w))\n    return (uno/len(w)).T.dot(w)\n\ndef score_feeling(s):\n    return np.array([1,0,-1]).dot(s)",
   "metadata": {
    "tags": [],
    "cell_id": "00004-086d5e6b-141e-4b3d-be9c-8ad723a7559d",
    "deepnote_to_be_reexecuted": false,
    "source_hash": "1011dcec",
    "execution_start": 1628401583560,
    "execution_millis": 36,
    "deepnote_cell_type": "code"
   },
   "outputs": [],
   "execution_count": 14
  },
  {
   "cell_type": "markdown",
   "source": "# Resultados",
   "metadata": {
    "tags": [],
    "is_collapsed": false,
    "cell_id": "00008-f7ede2ba-7f66-4052-97dd-945fc28da9f6",
    "deepnote_cell_type": "text-cell-h1"
   }
  },
  {
   "cell_type": "markdown",
   "source": "Score mayor a 1 = Tweet mas positivo",
   "metadata": {
    "tags": [],
    "is_collapsed": false,
    "cell_id": "00009-ebb28126-b1de-4ace-a5cd-ddbec23c186d",
    "deepnote_cell_type": "text-cell-p"
   }
  },
  {
   "cell_type": "markdown",
   "source": "Score cercano o igual a 0 = Tweet neutro",
   "metadata": {
    "tags": [],
    "is_collapsed": false,
    "cell_id": "00010-1ac38c49-b809-4fb7-8502-1f393243dd68",
    "deepnote_cell_type": "text-cell-p"
   }
  },
  {
   "cell_type": "markdown",
   "source": "Score menor a 0 = Tweet negativo",
   "metadata": {
    "tags": [],
    "is_collapsed": false,
    "cell_id": "00011-f70074b1-261e-492b-9b05-7d90258046af",
    "deepnote_cell_type": "text-cell-p"
   }
  },
  {
   "cell_type": "code",
   "source": "w , s = tweet_analysis(tweet_clean(uno))\nprint('Para el primer tweet tenemos: ')\nprint(f'La frecuencia de ocurrencia de las palabras fue: {error(w,s)}')\nprint(f'La puntuacion es tal que:{score_feeling(s)}')",
   "metadata": {
    "tags": [],
    "cell_id": "00008-21824bdc-6d2d-42c8-b414-f0b357af4e5a",
    "deepnote_to_be_reexecuted": false,
    "source_hash": "151a6b20",
    "execution_start": 1628401585856,
    "execution_millis": 13,
    "deepnote_cell_type": "code"
   },
   "outputs": [
    {
     "name": "stdout",
     "text": "Para el primer tweet tenemos: \nLa frecuencia de ocurrencia de las palabras fue: 0.375\nLa puntuacion es tal que:-1\n",
     "output_type": "stream"
    }
   ],
   "execution_count": 15
  },
  {
   "cell_type": "code",
   "source": "w , s = tweet_analysis(tweet_clean(dos))\nprint('Para el segundo tweet tenemos: ')\nprint(f'La frecuencia de ocurrencia de las palabras fue: {error(w,s)}')\nprint(f'La puntuacion es tal que:{score_feeling(s)}')",
   "metadata": {
    "tags": [],
    "cell_id": "00013-3cfb600d-46ae-464b-8ff2-ea5ceb0f8e6b",
    "deepnote_to_be_reexecuted": false,
    "source_hash": "21802c0e",
    "execution_start": 1628401588057,
    "execution_millis": 4,
    "deepnote_cell_type": "code"
   },
   "outputs": [
    {
     "name": "stdout",
     "text": "Para el segundo tweet tenemos: \nLa frecuencia de ocurrencia de las palabras fue: 0.25\nLa puntuacion es tal que:0\n",
     "output_type": "stream"
    }
   ],
   "execution_count": 16
  },
  {
   "cell_type": "code",
   "source": "w , s = tweet_analysis(tweet_clean(tres))\nprint('Para el tercer tweet tenemos: ')\nprint(f'La frecuencia de ocurrencia de las palabras fue: {error(w,s)}')\nprint(f'La puntuacion es tal que:{score_feeling(s)}')",
   "metadata": {
    "tags": [],
    "cell_id": "00014-4151e09e-2a9b-4022-aa93-985c419ef067",
    "deepnote_to_be_reexecuted": false,
    "source_hash": "67e1439d",
    "execution_start": 1628401589853,
    "execution_millis": 10,
    "deepnote_cell_type": "code"
   },
   "outputs": [
    {
     "name": "stdout",
     "text": "Para el tercer tweet tenemos: \nLa frecuencia de ocurrencia de las palabras fue: 0.25\nLa puntuacion es tal que:1\n",
     "output_type": "stream"
    }
   ],
   "execution_count": 17
  },
  {
   "cell_type": "code",
   "source": "w , s = tweet_analysis(tweet_clean(cuatro))\nprint('Para el cuarto tweet tenemos: ')\nprint(f'La frecuencia de ocurrencia de las palabras fue: {error(w,s)}')\nprint(f'La puntuacion es tal que:{score_feeling(s)}')",
   "metadata": {
    "tags": [],
    "cell_id": "00015-a7aa99df-c1bc-4e85-9ac7-c40c9e0288fc",
    "deepnote_to_be_reexecuted": false,
    "source_hash": "ce64f35b",
    "execution_start": 1628400875175,
    "execution_millis": 1,
    "deepnote_cell_type": "code"
   },
   "outputs": [
    {
     "name": "stdout",
     "text": "Para el cuarto tweet tenemos: \nLa frecuencia de ocurrencia de las palabras fue: 0.25\nLa puntuacion es tal que:3\n",
     "output_type": "stream"
    }
   ],
   "execution_count": 9
  },
  {
   "cell_type": "code",
   "source": "#calidad promedio\ncalidad = (0.375 + 0.25 + 0.25 + 0.25)/4\nprint(f'La calidad promedio es tal que {calidad}')",
   "metadata": {
    "tags": [],
    "cell_id": "00015-7c8a716e-57bb-4982-bb56-5db5da84021b",
    "deepnote_to_be_reexecuted": false,
    "source_hash": "2d09ed5a",
    "execution_start": 1628401592137,
    "execution_millis": 9,
    "deepnote_cell_type": "code"
   },
   "outputs": [
    {
     "name": "stdout",
     "text": "La calidad promedio es tal que 0.28125\n",
     "output_type": "stream"
    }
   ],
   "execution_count": 18
  },
  {
   "cell_type": "markdown",
   "source": "Leyendo los tuits decide el conjunto mínimo de palabras que vas a contar en todos los tuits, solamente deberás hacer una función para contar palabras para todos los tuits, no hagas un función por enunciado. Según tu esquema reponde lo siguiente:\n\n* ¿Qué tuit es más positivo?\nCuarto tweet es mas positivo con un score de 3\n* ¿Qué tuit es más negativo?\nEl primer tweet es el mas negativo con un score de -1\n* ¿Cuál es tu calidad promedio?\nLa calidad promedio es tal que: 28%\n* ¿Cómo interpretas $avg(\\vec{s})$ y $score(\\vec{s})$?\nEl average lo interpreto como el porcentaje de ocurrencia de las palabras clave para mi estudio. \nEl score como la medida de positividad del tweet cuando es mas negativo el resultado es mas negativo el tweet, es neutro en cero. Y positivo cuando el score es positivo. \n* ¿Cómo relacionas la calidad con $score(\\vec{s})$ y $avg(\\vec{s})$?\nSi la calidad es mas grande significa que hay palabras que coinciden con nuestra base de datos de las palabras positivas, neutras y negativas. Y daran un resultado de score mas cercano a la realidad.\n",
   "metadata": {
    "tags": [],
    "cell_id": "00005-a528805b-094a-42e5-8c54-4a23d6a87739",
    "deepnote_cell_type": "markdown"
   }
  },
  {
   "cell_type": "markdown",
   "source": "<a style='text-decoration:none;line-height:16px;display:flex;color:#5B5B62;padding:10px;justify-content:end;' href='https://deepnote.com?utm_source=created-in-deepnote-cell&projectId=e688bacd-b5b5-450f-a9b7-11a6c8d3db07' target=\"_blank\">\n<img alt='Created in deepnote.com' style='display:inline;max-height:16px;margin:0px;margin-right:7.5px;' src='data:image/svg+xml;base64,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' > </img>\nCreated in <span style='font-weight:600;margin-left:4px;'>Deepnote</span></a>",
   "metadata": {
    "tags": [],
    "created_in_deepnote_cell": true,
    "deepnote_cell_type": "markdown"
   }
  }
 ],
 "nbformat": 4,
 "nbformat_minor": 2,
 "metadata": {
  "orig_nbformat": 2,
  "deepnote": {
   "is_reactive": false
  },
  "deepnote_notebook_id": "4635cdbd-e01e-4c31-8b76-ea9ccc67751f",
  "deepnote_execution_queue": []
 }
}